{
 "cells": [
  {
   "cell_type": "markdown",
   "metadata": {},
   "source": [
    "## Reformating dataframes for analysing Tio's output"
   ]
  },
  {
   "cell_type": "code",
   "execution_count": 1,
   "metadata": {},
   "outputs": [],
   "source": [
    "#Import packages\n",
    "from platform import python_version\n",
    "import pandas as pd\n",
    "from pandas import ExcelWriter\n",
    "from pandas import ExcelFile\n",
    "import re"
   ]
  },
  {
   "cell_type": "code",
   "execution_count": 2,
   "metadata": {},
   "outputs": [
    {
     "name": "stdout",
     "output_type": "stream",
     "text": [
      "python version==3.6.5\n",
      "pandas==0.23.0\n",
      "re==2.2.1\n"
     ]
    }
   ],
   "source": [
    "#Be clear on versions of packages\n",
    "print(\"python version==%s\" % python_version())\n",
    "print(\"pandas==%s\" % pd.__version__)\n",
    "print(\"re==%s\" % re.__version__)"
   ]
  },
  {
   "cell_type": "code",
   "execution_count": 3,
   "metadata": {},
   "outputs": [],
   "source": [
    "#Presenting non trunctated output\n",
    "#Set presentation options\n",
    "pd.options.display.max_columns = 10 # to avoid truncated output \n",
    "pd.options.display.max_rows = 250 #\n",
    "pd.options.display.max_colwidth = 250 # I don't want cell content to be truncated."
   ]
  },
  {
   "cell_type": "markdown",
   "metadata": {},
   "source": [
    "### Pseudo-code\n",
    "\n",
    "*  Step 1) Add a header to storedData (the input dataframe)\n",
    "*  Step 2) Create a list of strings containing Tio's regular intro lines. Keeping this as a seperate list will make it easier to update this process if we alter Tio's intro.\n",
    "*  Step 3) Drop the dataframe rows that don't contain any content from the list from step 3 in \"Tio_says\" column and create a new dataframe.\n",
    "*  Step 4) Sort date/time column ascending in order to unravel any mixed up conversations."
   ]
  },
  {
   "cell_type": "markdown",
   "metadata": {},
   "source": [
    "###  The data\n",
    "I have selected a subset of the data - from 21 May @ 20:32:28 until 31 May @ 18:27 - as a test dataset."
   ]
  },
  {
   "cell_type": "code",
   "execution_count": 4,
   "metadata": {},
   "outputs": [
    {
     "data": {
      "text/plain": [
       "(2604, 5)"
      ]
     },
     "execution_count": 4,
     "metadata": {},
     "output_type": "execute_result"
    }
   ],
   "source": [
    "#Read in the storedData frame \n",
    "# and add headers to input dataframe (Step 1)\n",
    "\n",
    "stored_data = pd.read_excel(\"C:/Users/sonja/Desktop/Life_Admin/Chatbot/data_format.xlsx\", \n",
    "                      sheet_name='storedData_May', header = None, names = ['datetime_id', 'user', 'user_says', \n",
    "          'chatbot', 'chatbot_says'])\n",
    "stored_data.shape"
   ]
  },
  {
   "cell_type": "code",
   "execution_count": 5,
   "metadata": {},
   "outputs": [],
   "source": [
    "#Let's eyeball the data\n",
    "#stored_data.sample(3)"
   ]
  },
  {
   "cell_type": "markdown",
   "metadata": {},
   "source": [
    "### Step 2: Create list with Tio's intro chat"
   ]
  },
  {
   "cell_type": "code",
   "execution_count": 6,
   "metadata": {},
   "outputs": [],
   "source": [
    "Tios_intro = ['YesÂ¬ happy to listen to the explanation of how this bot works',\n",
    "'OKÂ¬ I will talk with you even though you are a simple bot.',\n",
    "'OKÂ¬ I understand that you do not know who I am.',\n",
    "'OKÂ¬ I know you cannot provide emergency services',\n",
    "'OKÂ¬ I know what you mean by anonymous.',\n",
    "'OKÂ¬ I know what you mean by confidential.',\n",
    "'Anonymous (my words can help improve the bot)',\n",
    "'YesÂ¬ I am happy to let you see how I feel at the end too',\n",
    "'YesÂ¬ when I am finished I will click the stop button',\n",
    "\"YesÂ¬ I agree to fill in the quick survey at the end. I'll type 'stop' in a text field.\",\n",
    "'Confidential (no human ever sees my words)', \n",
    "'finalHappinessScore (!!) = Stop',\n",
    "'initialHappinessScore (!!) = 1',\n",
    "'initialHappinessScore (!!) = 2',\n",
    "'initialHappinessScore (!!) = 3',\n",
    "'initialHappinessScore (!!) = 4',             \n",
    "'initialHappinessScore (!!) = 5',\n",
    "'initialHappinessScore (!!) = 6',             \n",
    "'initialHappinessScore (!!) = 7',\n",
    "'initialHappinessScore (!!) = 8',\n",
    "'initialHappinessScore (!!) = 9',\n",
    "'initialHappinessScore (!!) = 10',            \n",
    "'finalHappinessScore (!!) = 1',\n",
    "'finalHappinessScore (!!) = 2',\n",
    "'finalHappinessScore (!!) = 3',\n",
    "'finalHappinessScore (!!) = 4',\n",
    "'finalHappinessScore (!!) = 5',\n",
    "'finalHappinessScore (!!) = 6',\n",
    "'finalHappinessScore (!!) = 7',\n",
    "'finalHappinessScore (!!) = 8',\n",
    "'finalHappinessScore (!!) = 9',\n",
    "'finalHappinessScore (!!) = 10']    "
   ]
  },
  {
   "cell_type": "markdown",
   "metadata": {},
   "source": [
    "### Step 3: Drop those rows that contain Tio's intro chat"
   ]
  },
  {
   "cell_type": "code",
   "execution_count": 7,
   "metadata": {},
   "outputs": [],
   "source": [
    "#Clean function\n",
    "def clean_string(data_list):\n",
    "    clean_data = []\n",
    "    for string in data_list:\n",
    "# remove anything from the string that is not text \n",
    "        cleaned_string = ' '.join(re.sub(\"(@[A-Za-z0-9]+)|([^0-9A-Za-z \\t])|(\\w+:\\/\\/\\S+)\", \" \",string).split()) # So it is only text\n",
    "        clean_data.append(cleaned_string)\n",
    "    return clean_data"
   ]
  },
  {
   "cell_type": "code",
   "execution_count": 8,
   "metadata": {},
   "outputs": [
    {
     "name": "stdout",
     "output_type": "stream",
     "text": [
      "(2604, 5)\n"
     ]
    }
   ],
   "source": [
    "stored_data['user_says'] = clean_string(stored_data['user_says']) # clean the df data\n",
    "cleaned_Tios_intro = clean_string(Tios_intro) # Do the same for the Tios_intro strings\n",
    "print(stored_data.shape)"
   ]
  },
  {
   "cell_type": "code",
   "execution_count": 9,
   "metadata": {},
   "outputs": [
    {
     "name": "stdout",
     "output_type": "stream",
     "text": [
      "(382, 5)\n"
     ]
    }
   ],
   "source": [
    "# After applying the clena function the isin function finds matches.\n",
    "\n",
    "df_new = stored_data[~stored_data.user_says.isin(cleaned_Tios_intro)] \n",
    "print(df_new.shape)"
   ]
  },
  {
   "cell_type": "code",
   "execution_count": 10,
   "metadata": {},
   "outputs": [],
   "source": [
    "#df_new.head()"
   ]
  },
  {
   "cell_type": "code",
   "execution_count": 11,
   "metadata": {},
   "outputs": [
    {
     "data": {
      "text/plain": [
       "datetime_id\n",
       "['2020-05-21 20:32:28.387767'     6\n",
       "['2020-05-21 20:38:47.494863'     1\n",
       "['2020-05-21 20:52:09.785223'     4\n",
       "['2020-05-21 20:57:58.768489'    15\n",
       "['2020-05-21 21:10:35.593502'     4\n",
       "['2020-05-21 21:32:24.524643'     3\n",
       "['2020-05-21 21:48:01.324553'    11\n",
       "['2020-05-22 01:03:14.043631'     1\n",
       "['2020-05-22 01:07:08.542667'     1\n",
       "['2020-05-22 01:58:52.524054'     1\n",
       "['2020-05-22 08:36:27.028797'     1\n",
       "['2020-05-22 15:14:07.217119'     4\n",
       "['2020-05-22 16:39:41.347744'     1\n",
       "['2020-05-22 17:18:17.579742'     7\n",
       "['2020-05-22 17:38:49.682616'     1\n",
       "['2020-05-22 18:53:48.748125'     1\n",
       "['2020-05-22 20:11:53.462745'     3\n",
       "['2020-05-22 20:33:26.373135'     1\n",
       "['2020-05-22 21:30:51.419957'     2\n",
       "['2020-05-22 23:38:38.869182'     1\n",
       "['2020-05-23 02:13:34.146601'    17\n",
       "['2020-05-23 02:25:40.131295'     5\n",
       "['2020-05-23 02:45:32.801144'     4\n",
       "['2020-05-23 12:51:28.869748'     1\n",
       "['2020-05-23 13:06:05.177925'     1\n",
       "['2020-05-23 13:57:46.952205'     1\n",
       "['2020-05-23 14:39:23.900857'     1\n",
       "['2020-05-23 18:14:29.772892'     3\n",
       "['2020-05-23 19:39:10.908193'     7\n",
       "['2020-05-23 19:39:44.108532'     3\n",
       "['2020-05-23 21:09:15.487884'     4\n",
       "['2020-05-23 21:21:06.891310'     3\n",
       "['2020-05-23 21:22:18.860074'     2\n",
       "['2020-05-24 00:44:45.034775'     2\n",
       "['2020-05-24 00:58:27.704771'     1\n",
       "['2020-05-24 01:02:49.532055'     1\n",
       "['2020-05-24 01:03:12.390662'     1\n",
       "['2020-05-24 01:59:40.380980'    10\n",
       "['2020-05-24 13:18:13.368888'     3\n",
       "['2020-05-24 14:18:25.793562'     1\n",
       "['2020-05-24 14:25:58.445248'     1\n",
       "['2020-05-24 17:51:16.230275'     1\n",
       "['2020-05-24 17:59:25.898765'     1\n",
       "['2020-05-24 19:41:20.941880'     1\n",
       "['2020-05-24 22:47:26.758792'     1\n",
       "['2020-05-24 22:58:49.463453'     6\n",
       "['2020-05-25 17:26:40.509251'     6\n",
       "['2020-05-25 18:43:19.441396'     4\n",
       "['2020-05-25 19:11:47.381538'     1\n",
       "['2020-05-25 19:20:20.783995'     1\n",
       "['2020-05-25 20:27:34.396304'     1\n",
       "['2020-05-25 21:20:50.672155'     1\n",
       "['2020-05-25 21:24:35.885569'     1\n",
       "['2020-05-25 22:06:24.947183'     1\n",
       "['2020-05-25 22:18:10.563664'     1\n",
       "['2020-05-25 23:37:27.389497'     7\n",
       "['2020-05-26 02:36:50.836721'     1\n",
       "['2020-05-26 07:19:22.756881'     8\n",
       "['2020-05-26 07:36:26.587345'     1\n",
       "['2020-05-26 13:03:05.876734'     2\n",
       "['2020-05-26 14:34:37.737321'     1\n",
       "['2020-05-26 17:40:37.913406'     1\n",
       "['2020-05-26 17:41:51.724638'     3\n",
       "['2020-05-26 18:36:04.371722'     5\n",
       "['2020-05-26 19:52:12.648213'     1\n",
       "['2020-05-26 21:05:59.324033'     1\n",
       "['2020-05-26 21:46:52.643677'     1\n",
       "['2020-05-26 22:30:19.249298'     1\n",
       "['2020-05-26 23:14:59.046178'     8\n",
       "['2020-05-27 00:05:20.018044'     3\n",
       "['2020-05-27 00:24:12.855726'    22\n",
       "['2020-05-27 05:35:55.255507'    13\n",
       "['2020-05-27 08:19:15.500675'     7\n",
       "['2020-05-27 13:38:35.253678'     1\n",
       "['2020-05-27 15:28:09.147353'     1\n",
       "['2020-05-27 17:24:53.328157'     2\n",
       "['2020-05-27 19:50:48.977146'     3\n",
       "['2020-05-28 02:39:09.795709'     1\n",
       "['2020-05-28 14:42:34.922898'     6\n",
       "['2020-05-28 19:57:11.467953'     4\n",
       "['2020-05-28 21:10:04.804579'     3\n",
       "['2020-05-28 21:26:14.115675'     5\n",
       "['2020-05-28 21:26:23.300657'     3\n",
       "['2020-05-28 23:15:28.744747'     1\n",
       "['2020-05-29 12:21:52.130141'     2\n",
       "['2020-05-29 15:26:41.507665'     1\n",
       "['2020-05-29 17:15:17.463582'     1\n",
       "['2020-05-29 18:08:09.638715'     1\n",
       "['2020-05-29 19:20:23.744080'     1\n",
       "['2020-05-29 20:05:30.069388'     1\n",
       "['2020-05-29 20:38:27.816173'     5\n",
       "['2020-05-29 21:03:29.360012'     1\n",
       "['2020-05-29 21:11:13.296760'     6\n",
       "['2020-05-30 01:16:00.402534'     1\n",
       "['2020-05-30 01:26:16.062897'     9\n",
       "['2020-05-30 12:41:58.787339'     1\n",
       "['2020-05-30 13:41:05.118106'     2\n",
       "['2020-05-30 14:23:03.406274'     2\n",
       "['2020-05-30 17:44:38.379308'     4\n",
       "['2020-05-30 18:52:51.161769'     1\n",
       "['2020-05-30 19:35:52.652001'     5\n",
       "['2020-05-30 20:35:00.268997'    28\n",
       "['2020-05-30 20:47:54.936388'     3\n",
       "['2020-05-30 23:04:21.696263'     1\n",
       "['2020-05-31 12:28:19.498644'     1\n",
       "['2020-05-31 12:41:57.082007'     4\n",
       "['2020-05-31 16:33:02.324808'     2\n",
       "['2020-05-31 17:51:50.935387'     9\n",
       "['2020-05-31 18:23:05.811883'     6\n",
       "dtype: int64"
      ]
     },
     "execution_count": 11,
     "metadata": {},
     "output_type": "execute_result"
    }
   ],
   "source": [
    "#What is the length of the conversations\n",
    "convo_size = df_new.groupby(['datetime_id']).size()\n",
    "convo_size"
   ]
  },
  {
   "cell_type": "code",
   "execution_count": 12,
   "metadata": {},
   "outputs": [],
   "source": [
    "import matplotlib.pyplot as plt"
   ]
  },
  {
   "cell_type": "code",
   "execution_count": 13,
   "metadata": {},
   "outputs": [
    {
     "data": {
      "text/plain": [
       "Text(0,0.5,'Frequency')"
      ]
     },
     "execution_count": 13,
     "metadata": {},
     "output_type": "execute_result"
    },
    {
     "data": {
      "image/png": "[encoded data removed]",
      "text/plain": [
       "<Figure size 432x288 with 1 Axes>"
      ]
     },
     "metadata": {
      "needs_background": "light"
     },
     "output_type": "display_data"
    }
   ],
   "source": [
    "plt.hist(convo_size, color = 'blue', edgecolor = 'black', bins = int(25/1))\n",
    "plt.title('Length of conversations')\n",
    "plt.xlabel('Count of date_time stamps')\n",
    "plt.ylabel('Frequency')"
   ]
  },
  {
   "cell_type": "markdown",
   "metadata": {},
   "source": [
    "#### Step 4 : sort datetime_id column to ensure that we don't have convos crossing"
   ]
  },
  {
   "cell_type": "code",
   "execution_count": 14,
   "metadata": {},
   "outputs": [],
   "source": [
    "df_new_sorted = df_new.sort_values(by='datetime_id', ascending = True) #default is ascending"
   ]
  },
  {
   "cell_type": "code",
   "execution_count": 15,
   "metadata": {},
   "outputs": [
    {
     "data": {
      "text/plain": [
       "(382, 5)"
      ]
     },
     "execution_count": 15,
     "metadata": {},
     "output_type": "execute_result"
    }
   ],
   "source": [
    "df_new_sorted.shape"
   ]
  },
  {
   "cell_type": "markdown",
   "metadata": {},
   "source": [
    "Things to think about:\n",
    "     - when I try this on another slice of storedData will need to see how easy it is to skim thro's the convos. I may want to reintroduce the \"initialHappinessScore\" rows, just because it delineates conversations. \n",
    "       - Large number of single date_time stamp convos - could take a closer look at whether we think Tio is inviting enough."
   ]
  }
 ],
 "metadata": {
  "kernelspec": {
   "display_name": "Python 3",
   "language": "python",
   "name": "python3"
  },
  "language_info": {
   "codemirror_mode": {
    "name": "ipython",
    "version": 3
   },
   "file_extension": ".py",
   "mimetype": "text/x-python",
   "name": "python",
   "nbconvert_exporter": "python",
   "pygments_lexer": "ipython3",
   "version": "3.6.5"
  }
 },
 "nbformat": 4,
 "nbformat_minor": 2
}
